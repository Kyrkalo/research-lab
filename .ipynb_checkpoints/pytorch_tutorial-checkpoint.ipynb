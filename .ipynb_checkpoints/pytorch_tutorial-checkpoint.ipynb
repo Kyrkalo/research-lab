{
 "cells": [
  {
   "cell_type": "code",
   "execution_count": 1,
   "id": "1dd9a40e-b0d0-42e8-8507-7af7857a7e7e",
   "metadata": {},
   "outputs": [
    {
     "name": "stdout",
     "output_type": "stream",
     "text": [
      "tensor([1.8062e-35])\n"
     ]
    }
   ],
   "source": [
    "import torch\n",
    "\n",
    "x = torch.empty(1)\n",
    "print(x)"
   ]
  },
  {
   "cell_type": "code",
   "execution_count": 2,
   "id": "3be522cf-ef7b-44f9-93e7-6db44503171a",
   "metadata": {},
   "outputs": [],
   "source": [
    "x = torch.empty(3)"
   ]
  },
  {
   "cell_type": "code",
   "execution_count": 3,
   "id": "47b3034c-eefb-42db-9601-bccde35c6861",
   "metadata": {},
   "outputs": [
    {
     "name": "stdout",
     "output_type": "stream",
     "text": [
      "tensor([0., 0., 0.])\n"
     ]
    }
   ],
   "source": [
    "print(x)"
   ]
  },
  {
   "cell_type": "code",
   "execution_count": 4,
   "id": "921db94b-8884-42e1-a7cd-cd77eee9c422",
   "metadata": {},
   "outputs": [
    {
     "name": "stdout",
     "output_type": "stream",
     "text": [
      "tensor([[[0., 0., 0.],\n",
      "         [0., 0., 0.]]])\n"
     ]
    }
   ],
   "source": [
    "x = torch.empty(1,2,3)\n",
    "print(x)"
   ]
  },
  {
   "cell_type": "code",
   "execution_count": null,
   "id": "85614cb7-650a-4abf-89cd-c4466bcf6564",
   "metadata": {},
   "outputs": [],
   "source": [
    "x = torch.empty(5,2,3)\n",
    "print(x)"
   ]
  }
 ],
 "metadata": {
  "kernelspec": {
   "display_name": "Python 3 (ipykernel)",
   "language": "python",
   "name": "python3"
  },
  "language_info": {
   "codemirror_mode": {
    "name": "ipython",
    "version": 3
   },
   "file_extension": ".py",
   "mimetype": "text/x-python",
   "name": "python",
   "nbconvert_exporter": "python",
   "pygments_lexer": "ipython3",
   "version": "3.13.1"
  }
 },
 "nbformat": 4,
 "nbformat_minor": 5
}
