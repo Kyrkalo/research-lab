{
 "cells": [
  {
   "cell_type": "code",
   "execution_count": 1,
   "id": "1dd9a40e-b0d0-42e8-8507-7af7857a7e7e",
   "metadata": {},
   "outputs": [
    {
     "name": "stdout",
     "output_type": "stream",
     "text": [
      "tensor([1.8062e-35])\n"
     ]
    }
   ],
   "source": [
    "import torch\n",
    "\n",
    "x = torch.empty(1)\n",
    "print(x)"
   ]
  },
  {
   "cell_type": "code",
   "execution_count": 2,
   "id": "3be522cf-ef7b-44f9-93e7-6db44503171a",
   "metadata": {},
   "outputs": [],
   "source": [
    "x = torch.empty(3)"
   ]
  },
  {
   "cell_type": "code",
   "execution_count": 3,
   "id": "47b3034c-eefb-42db-9601-bccde35c6861",
   "metadata": {},
   "outputs": [
    {
     "name": "stdout",
     "output_type": "stream",
     "text": [
      "tensor([0., 0., 0.])\n"
     ]
    }
   ],
   "source": [
    "print(x)"
   ]
  },
  {
   "cell_type": "code",
   "execution_count": 4,
   "id": "921db94b-8884-42e1-a7cd-cd77eee9c422",
   "metadata": {},
   "outputs": [
    {
     "name": "stdout",
     "output_type": "stream",
     "text": [
      "tensor([[[0., 0., 0.],\n",
      "         [0., 0., 0.]]])\n"
     ]
    }
   ],
   "source": [
    "x = torch.empty(1,2,3)\n",
    "print(x)"
   ]
  },
  {
   "cell_type": "code",
   "execution_count": 5,
   "id": "85614cb7-650a-4abf-89cd-c4466bcf6564",
   "metadata": {},
   "outputs": [
    {
     "name": "stdout",
     "output_type": "stream",
     "text": [
      "tensor([[[1.8432e-35, 9.8371e-43, 0.0000e+00],\n",
      "         [0.0000e+00, 0.0000e+00, 0.0000e+00]],\n",
      "\n",
      "        [[0.0000e+00, 0.0000e+00, 0.0000e+00],\n",
      "         [0.0000e+00, 0.0000e+00, 0.0000e+00]],\n",
      "\n",
      "        [[0.0000e+00, 0.0000e+00, 0.0000e+00],\n",
      "         [0.0000e+00, 0.0000e+00, 0.0000e+00]],\n",
      "\n",
      "        [[0.0000e+00, 0.0000e+00, 0.0000e+00],\n",
      "         [0.0000e+00, 0.0000e+00, 0.0000e+00]],\n",
      "\n",
      "        [[0.0000e+00, 0.0000e+00, 0.0000e+00],\n",
      "         [0.0000e+00, 0.0000e+00, 0.0000e+00]]])\n"
     ]
    }
   ],
   "source": [
    "x = torch.empty(5,2,3)\n",
    "print(x)"
   ]
  },
  {
   "cell_type": "code",
   "execution_count": 6,
   "id": "212438db-4d94-49ac-ad7b-4bfc812ad059",
   "metadata": {},
   "outputs": [
    {
     "name": "stdout",
     "output_type": "stream",
     "text": [
      "tensor([[1.8620e-35, 9.8371e-43, 0.0000e+00],\n",
      "        [0.0000e+00, 0.0000e+00, 0.0000e+00],\n",
      "        [0.0000e+00, 0.0000e+00, 0.0000e+00],\n",
      "        [0.0000e+00, 0.0000e+00, 0.0000e+00],\n",
      "        [0.0000e+00, 0.0000e+00, 0.0000e+00]])\n"
     ]
    }
   ],
   "source": [
    "x = torch.empty(5,3)\n",
    "print(x)"
   ]
  },
  {
   "cell_type": "code",
   "execution_count": 7,
   "id": "970fe5ab-2941-4b2d-a623-46e85eacfe07",
   "metadata": {},
   "outputs": [],
   "source": [
    "x = torch.rand(2,2)"
   ]
  },
  {
   "cell_type": "code",
   "execution_count": 8,
   "id": "dc75f823-d394-42cc-b4c4-ed36aa1ee0ec",
   "metadata": {},
   "outputs": [
    {
     "name": "stdout",
     "output_type": "stream",
     "text": [
      "tensor([[0.3471, 0.2467],\n",
      "        [0.6390, 0.1367]])\n"
     ]
    }
   ],
   "source": [
    "print(x)"
   ]
  },
  {
   "cell_type": "code",
   "execution_count": 10,
   "id": "08abac9d-7952-4803-9f72-e8adfdae0ffb",
   "metadata": {},
   "outputs": [
    {
     "name": "stdout",
     "output_type": "stream",
     "text": [
      "tensor([[0., 0.],\n",
      "        [0., 0.]])\n"
     ]
    }
   ],
   "source": [
    "x = torch.zeros(2,2)\n",
    "print(x)"
   ]
  },
  {
   "cell_type": "code",
   "execution_count": 11,
   "id": "e76c3746-a78e-442e-bea7-2e3e90770c7f",
   "metadata": {},
   "outputs": [
    {
     "name": "stdout",
     "output_type": "stream",
     "text": [
      "torch.Size([2, 2])\n"
     ]
    }
   ],
   "source": [
    "print(x.size())\n"
   ]
  },
  {
   "cell_type": "code",
   "execution_count": 12,
   "id": "b5f016dc-810b-4742-b1bb-cc068d60cd45",
   "metadata": {},
   "outputs": [],
   "source": [
    "x = torch.tensor([2.5, 0.1,3.5])"
   ]
  },
  {
   "cell_type": "code",
   "execution_count": 13,
   "id": "56d6b065-7c1d-4e7f-a9d7-9fc09a6c0bde",
   "metadata": {},
   "outputs": [
    {
     "name": "stdout",
     "output_type": "stream",
     "text": [
      "tensor([2.5000, 0.1000, 3.5000])\n"
     ]
    }
   ],
   "source": [
    "print(x)"
   ]
  },
  {
   "cell_type": "code",
   "execution_count": 14,
   "id": "c037b904-0ff0-41df-9f53-d0a5023a0f94",
   "metadata": {},
   "outputs": [],
   "source": [
    "x =torch.rand(2,2)"
   ]
  },
  {
   "cell_type": "code",
   "execution_count": 15,
   "id": "8e0eb045-39f3-4de4-bc05-4c2bddcf9f8a",
   "metadata": {},
   "outputs": [],
   "source": [
    "y=torch.rand(2,2)"
   ]
  },
  {
   "cell_type": "code",
   "execution_count": 18,
   "id": "b669f306-d9a3-4f4a-b838-8211d2600a48",
   "metadata": {},
   "outputs": [
    {
     "name": "stdout",
     "output_type": "stream",
     "text": [
      "tensor([[0.0717, 0.7916],\n",
      "        [0.7451, 0.0971]])\n",
      "tensor([[0.1435, 0.2573],\n",
      "        [0.1982, 0.3816]])\n"
     ]
    }
   ],
   "source": [
    "print(x)\n",
    "print(y)"
   ]
  },
  {
   "cell_type": "code",
   "execution_count": 20,
   "id": "03ef2cc4-21fe-4801-bc43-9bd67c9af7ff",
   "metadata": {},
   "outputs": [
    {
     "name": "stdout",
     "output_type": "stream",
     "text": [
      "tensor([[0.2152, 1.0489],\n",
      "        [0.9433, 0.4787]])\n"
     ]
    }
   ],
   "source": [
    "z= x+y\n",
    "print(z)"
   ]
  },
  {
   "cell_type": "code",
   "execution_count": 21,
   "id": "b390e553-7c0f-425d-9e54-5acda2011ebf",
   "metadata": {},
   "outputs": [
    {
     "name": "stdout",
     "output_type": "stream",
     "text": [
      "tensor([[0.2152, 1.0489],\n",
      "        [0.9433, 0.4787]])\n"
     ]
    }
   ],
   "source": [
    "y.add_(x)\n",
    "print(y)"
   ]
  },
  {
   "cell_type": "code",
   "execution_count": 22,
   "id": "b9abb0c9-4ce7-4f72-8179-3e9c3becf8a0",
   "metadata": {},
   "outputs": [],
   "source": [
    "z = x - y"
   ]
  },
  {
   "cell_type": "code",
   "execution_count": 23,
   "id": "a112b97b-fd51-4374-9297-2a4bf4b94f7b",
   "metadata": {},
   "outputs": [
    {
     "name": "stdout",
     "output_type": "stream",
     "text": [
      "tensor([[-0.1435, -0.2573],\n",
      "        [-0.1982, -0.3816]])\n"
     ]
    }
   ],
   "source": [
    "print(z)"
   ]
  },
  {
   "cell_type": "code",
   "execution_count": null,
   "id": "e4d7a9f6-2a06-4d44-8e4f-50fb1af418c9",
   "metadata": {},
   "outputs": [],
   "source": []
  }
 ],
 "metadata": {
  "kernelspec": {
   "display_name": "Python 3 (ipykernel)",
   "language": "python",
   "name": "python3"
  },
  "language_info": {
   "codemirror_mode": {
    "name": "ipython",
    "version": 3
   },
   "file_extension": ".py",
   "mimetype": "text/x-python",
   "name": "python",
   "nbconvert_exporter": "python",
   "pygments_lexer": "ipython3",
   "version": "3.13.1"
  }
 },
 "nbformat": 4,
 "nbformat_minor": 5
}
