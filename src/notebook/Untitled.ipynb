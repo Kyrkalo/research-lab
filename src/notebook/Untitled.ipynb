{
 "cells": [
  {
   "cell_type": "code",
   "execution_count": 1,
   "id": "90b7b08e-d495-462b-8327-70d7191eda11",
   "metadata": {},
   "outputs": [
    {
     "ename": "ModuleNotFoundError",
     "evalue": "No module named 'pytorch'",
     "output_type": "error",
     "traceback": [
      "\u001b[31m---------------------------------------------------------------------------\u001b[39m",
      "\u001b[31mModuleNotFoundError\u001b[39m                       Traceback (most recent call last)",
      "\u001b[36mCell\u001b[39m\u001b[36m \u001b[39m\u001b[32mIn[1]\u001b[39m\u001b[32m, line 3\u001b[39m\n\u001b[32m      1\u001b[39m \u001b[38;5;28;01mimport\u001b[39;00m\u001b[38;5;250m \u001b[39m\u001b[34;01mtorch\u001b[39;00m\n\u001b[32m      2\u001b[39m \u001b[38;5;28;01mfrom\u001b[39;00m\u001b[38;5;250m \u001b[39m\u001b[34;01mtorchlibrosa\u001b[39;00m\u001b[34;01m.\u001b[39;00m\u001b[34;01mstft\u001b[39;00m\u001b[38;5;250m \u001b[39m\u001b[38;5;28;01mimport\u001b[39;00m Spectrogram, LogmelFilterBank\n\u001b[32m----> \u001b[39m\u001b[32m3\u001b[39m \u001b[38;5;28;01mfrom\u001b[39;00m\u001b[38;5;250m \u001b[39m\u001b[34;01mpytorch\u001b[39;00m\u001b[34;01m.\u001b[39;00m\u001b[34;01mmodels\u001b[39;00m\u001b[38;5;250m \u001b[39m\u001b[38;5;28;01mimport\u001b[39;00m Cnn14_16k  \u001b[38;5;66;03m# path as in the repo’s structure\u001b[39;00m\n\u001b[32m      5\u001b[39m \u001b[38;5;66;03m# Frontend params: MUST match the checkpoint family (here: 16 kHz)\u001b[39;00m\n\u001b[32m      6\u001b[39m sample_rate = \u001b[32m16000\u001b[39m\n",
      "\u001b[31mModuleNotFoundError\u001b[39m: No module named 'pytorch'"
     ]
    }
   ],
   "source": [
    "import torch\n",
    "from torchlibrosa.stft import Spectrogram, LogmelFilterBank\n",
    "from pytorch.models import Cnn14_16k  # path as in the repo’s structure\n",
    "\n",
    "# Frontend params: MUST match the checkpoint family (here: 16 kHz)\n",
    "sample_rate = 16000\n",
    "window_size = 512\n",
    "hop_size = 160\n",
    "mel_bins = 64\n",
    "fmin, fmax = 50, 8000\n",
    "\n",
    "# Build the model\n",
    "model = Cnn14_16k(sample_rate=sample_rate,\n",
    "                  window_size=window_size,\n",
    "                  hop_size=hop_size,\n",
    "                  mel_bins=mel_bins,\n",
    "                  fmin=fmin, fmax=fmax,\n",
    "                  classes_num=527)\n",
    "\n",
    "# Load weights\n",
    "ckpt_path = \"Cnn14_16k_mAP=0.438.pth\"   # download from Zenodo\n",
    "checkpoint = torch.load(ckpt_path, map_location=\"cpu\")\n",
    "model.load_state_dict(checkpoint['model'])\n",
    "model.eval()\n"
   ]
  },
  {
   "cell_type": "code",
   "execution_count": null,
   "id": "81400e4a-5823-4b3a-a034-61d943cbdcdb",
   "metadata": {},
   "outputs": [],
   "source": []
  }
 ],
 "metadata": {
  "kernelspec": {
   "display_name": "Python 3 (ipykernel)",
   "language": "python",
   "name": "python3"
  },
  "language_info": {
   "codemirror_mode": {
    "name": "ipython",
    "version": 3
   },
   "file_extension": ".py",
   "mimetype": "text/x-python",
   "name": "python",
   "nbconvert_exporter": "python",
   "pygments_lexer": "ipython3",
   "version": "3.13.4"
  }
 },
 "nbformat": 4,
 "nbformat_minor": 5
}
